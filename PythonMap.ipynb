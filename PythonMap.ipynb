{
 "cells": [
  {
   "cell_type": "code",
   "execution_count": 7,
   "metadata": {},
   "outputs": [
    {
     "name": "stdout",
     "output_type": "stream",
     "text": [
      "<map object at 0x7fa750437cc0>\n",
      "[5, 6, 5]\n"
     ]
    }
   ],
   "source": [
    "def length(n):\n",
    "    return len(n)\n",
    "\n",
    "x = map(length, ['Apple', 'Banana', 'Mango'])\n",
    "print(x)\n",
    "\n",
    "print(list(x))"
   ]
  },
  {
   "cell_type": "code",
   "execution_count": 28,
   "metadata": {},
   "outputs": [
    {
     "name": "stdout",
     "output_type": "stream",
     "text": [
      "<map object at 0x7fa7503bffd0>\n"
     ]
    }
   ],
   "source": [
    "\n",
    "def func(a,b):\n",
    "    return a+b\n",
    "\n",
    "x = map(func, ['Apple', 'Banana', 'Mango'], ['Apple', 'Banana', 'Mango'])\n",
    "\n",
    "print(x)"
   ]
  },
  {
   "cell_type": "code",
   "execution_count": 29,
   "metadata": {},
   "outputs": [
    {
     "name": "stdout",
     "output_type": "stream",
     "text": [
      "['AppleApple', 'BananaBanana', 'MangoMango']\n"
     ]
    }
   ],
   "source": [
    "print(list(x))"
   ]
  },
  {
   "cell_type": "code",
   "execution_count": 40,
   "metadata": {},
   "outputs": [
    {
     "name": "stdout",
     "output_type": "stream",
     "text": [
      "<map object at 0x7fa750437278>\n",
      "['Apple', 'Banana', 'Mango']\n"
     ]
    }
   ],
   "source": [
    "\n",
    "def func(a):\n",
    "    return a\n",
    "\n",
    "lst = ['Apple', 'Banana', 'Mango']\n",
    "x = map(func, lst)\n",
    "\n",
    "print(x)\n",
    "print(list(x))\n"
   ]
  },
  {
   "cell_type": "code",
   "execution_count": 58,
   "metadata": {},
   "outputs": [
    {
     "name": "stdout",
     "output_type": "stream",
     "text": [
      "<map object at 0x7fa7503d7cc0>\n",
      "['A', 'B', 'M']\n"
     ]
    }
   ],
   "source": [
    "def upper_case(a):\n",
    "    for x in a:\n",
    "        return x.upper()\n",
    "    \n",
    "def lower_case(a):\n",
    "    for x in a:\n",
    "        return x.lower()\n",
    "\n",
    "lst = ['Apple', 'Banana', 'Mango']\n",
    "\n",
    "x =  upper_case(lst)\n",
    "y = lower_case(lst)\n",
    "\n",
    "x = map(upper_case, map(lower_case, lst))\n",
    "# y = map(lower_case, lst)\n",
    "print(x)\n",
    "\n",
    "print(list(x))\n",
    "# print(list(x))"
   ]
  },
  {
   "cell_type": "code",
   "execution_count": 83,
   "metadata": {},
   "outputs": [
    {
     "name": "stdout",
     "output_type": "stream",
     "text": [
      "APPLE\n",
      "BANANA\n",
      "MANGO\n",
      "apple\n",
      "banana\n",
      "mango\n"
     ]
    },
    {
     "data": {
      "text/plain": [
       "<map at 0x7fa7503e3eb8>"
      ]
     },
     "execution_count": 83,
     "metadata": {},
     "output_type": "execute_result"
    }
   ],
   "source": [
    "def upper_case(a):\n",
    "    for x in a:\n",
    "        print(x.upper())\n",
    "    \n",
    "def lower_case(a):\n",
    "    for x in a:\n",
    "        print(x.lower())\n",
    "\n",
    "lst = ['Apple', 'Banana', 'Mango']\n",
    "\n",
    "x =  upper_case(lst)\n",
    "y = lower_case(lst)\n",
    "\n",
    "z = map(lower_case, lst)\n",
    "x = map(upper_case, z)\n",
    "\n",
    "z\n",
    "x\n",
    "# print(x)\n"
   ]
  },
  {
   "cell_type": "code",
   "execution_count": 84,
   "metadata": {},
   "outputs": [
    {
     "name": "stdout",
     "output_type": "stream",
     "text": [
      "(6, 8, 23, 25, 54, 24, 55, 54, 22, 53)\n"
     ]
    }
   ],
   "source": [
    "tup = (5,7,22,24,53,23,54,53,21,52)\n",
    "\n",
    "x = tuple(map(lambda x: x+1, tup))\n",
    "print(x)"
   ]
  },
  {
   "cell_type": "code",
   "execution_count": null,
   "metadata": {},
   "outputs": [],
   "source": []
  }
 ],
 "metadata": {
  "kernelspec": {
   "display_name": "Python 3",
   "language": "python",
   "name": "python3"
  },
  "language_info": {
   "codemirror_mode": {
    "name": "ipython",
    "version": 3
   },
   "file_extension": ".py",
   "mimetype": "text/x-python",
   "name": "python",
   "nbconvert_exporter": "python",
   "pygments_lexer": "ipython3",
   "version": "3.7.3"
  }
 },
 "nbformat": 4,
 "nbformat_minor": 2
}
