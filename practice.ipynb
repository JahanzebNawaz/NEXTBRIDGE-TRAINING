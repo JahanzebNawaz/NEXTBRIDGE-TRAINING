{
 "cells": [
  {
   "cell_type": "code",
   "execution_count": 1,
   "metadata": {},
   "outputs": [
    {
     "name": "stdout",
     "output_type": "stream",
     "text": [
      "<class 'str'>\n"
     ]
    }
   ],
   "source": [
    "thisistuple = ('this')\n",
    "print(type(thisistuple))"
   ]
  },
  {
   "cell_type": "code",
   "execution_count": 2,
   "metadata": {},
   "outputs": [
    {
     "name": "stdout",
     "output_type": "stream",
     "text": [
      "<class 'tuple'>\n"
     ]
    }
   ],
   "source": [
    "thisistuple = ('this',)\n",
    "print(type(thisistuple))"
   ]
  },
  {
   "cell_type": "code",
   "execution_count": 3,
   "metadata": {},
   "outputs": [
    {
     "name": "stdout",
     "output_type": "stream",
     "text": [
      "<class 'str'>\n",
      "<class 'list'>\n"
     ]
    }
   ],
   "source": [
    "thisistuple = ('this',)\n",
    "thislist = list(thisistuple)\n",
    "print(type(thisistuple))\n",
    "print(type(thislist))"
   ]
  },
  {
   "cell_type": "code",
   "execution_count": 3,
   "metadata": {},
   "outputs": [
    {
     "name": "stdout",
     "output_type": "stream",
     "text": [
      "<class 'tuple'>\n",
      "<class 'list'>\n",
      "('this', 'new')\n"
     ]
    }
   ],
   "source": [
    "thisistuple = (\"this\",)\n",
    "thislist = list(thisistuple)\n",
    "thislist.append('new')\n",
    "thisistuple = tuple(thislist)\n",
    "print(type(thisistuple))\n",
    "print(type(thislist))\n",
    "print(thisistuple)"
   ]
  },
  {
   "cell_type": "code",
   "execution_count": 4,
   "metadata": {},
   "outputs": [
    {
     "data": {
      "text/plain": [
       "'this'"
      ]
     },
     "execution_count": 4,
     "metadata": {},
     "output_type": "execute_result"
    }
   ],
   "source": [
    "thisistuple[0]"
   ]
  },
  {
   "cell_type": "code",
   "execution_count": 9,
   "metadata": {},
   "outputs": [
    {
     "data": {
      "text/plain": [
       "1"
      ]
     },
     "execution_count": 9,
     "metadata": {},
     "output_type": "execute_result"
    }
   ],
   "source": [
    "a = ('THIS',)\n",
    "b = ('new',)\n",
    "c = a + b\n",
    "c * 2\n",
    "c.count('new')"
   ]
  },
  {
   "cell_type": "code",
   "execution_count": 15,
   "metadata": {},
   "outputs": [
    {
     "name": "stdout",
     "output_type": "stream",
     "text": [
      "['mango']\n"
     ]
    }
   ],
   "source": [
    "thislist = [\"apple\", \"banana\", \"cherry\", \"orange\", \"kiwi\", \"melon\", \"mango\"]\n",
    "# print(thislist[2:5])\n",
    "print(thislist[-1:])\n"
   ]
  },
  {
   "cell_type": "code",
   "execution_count": 23,
   "metadata": {},
   "outputs": [
    {
     "name": "stdout",
     "output_type": "stream",
     "text": [
      "['cherry', 'orange', 'kiwi', 'melon']\n"
     ]
    }
   ],
   "source": [
    "thislist = [\"apple\", \"banana\", \"cherry\", \"orange\", \"kiwi\", \"melon\", \"mango\"]\n",
    "\n",
    "thislist.remove('mango')\n",
    "thislist.pop(1)\n",
    "del thislist[0]\n",
    "print(thislist)\n"
   ]
  },
  {
   "cell_type": "code",
   "execution_count": 24,
   "metadata": {},
   "outputs": [
    {
     "name": "stdout",
     "output_type": "stream",
     "text": [
      "[]\n"
     ]
    }
   ],
   "source": [
    "thislist = [\"apple\", \"banana\", \"cherry\", \"orange\", \"kiwi\", \"melon\", \"mango\"]\n",
    "\n",
    "thislist.clear()\n",
    "print(thislist)"
   ]
  },
  {
   "cell_type": "code",
   "execution_count": 25,
   "metadata": {},
   "outputs": [
    {
     "name": "stdout",
     "output_type": "stream",
     "text": [
      "apple\n",
      "banana\n",
      "cherry\n",
      "orange\n",
      "kiwi\n",
      "melon\n",
      "mango\n"
     ]
    }
   ],
   "source": [
    "thislist = [\"apple\", \"banana\", \"cherry\", \"orange\", \"kiwi\", \"melon\", \"mango\"]\n",
    "\n",
    "for x in range(len(thislist)):\n",
    "    print(thislist[x])"
   ]
  },
  {
   "cell_type": "code",
   "execution_count": 27,
   "metadata": {},
   "outputs": [
    {
     "data": {
      "text/plain": [
       "['apple', 'banana', 'cherry', 'orange', 'kiwi', 'melon', 'mango']"
      ]
     },
     "execution_count": 27,
     "metadata": {},
     "output_type": "execute_result"
    }
   ],
   "source": [
    "thislist = [\"apple\", \"banana\", \"cherry\", \"orange\", \"kiwi\", \"melon\", \"mango\"]\n",
    "\n",
    "a = [x for x in thislist]\n",
    "a"
   ]
  },
  {
   "cell_type": "code",
   "execution_count": 36,
   "metadata": {},
   "outputs": [
    {
     "name": "stdout",
     "output_type": "stream",
     "text": [
      "['oranage', 'BANANA', 'CHERRY', 'ORANGE', 'KIWI', 'MELON', 'MANGO']\n"
     ]
    }
   ],
   "source": [
    "thislist = [\"apple\", \"banana\", \"cherry\", \"orange\", \"kiwi\", \"melon\", \"mango\"]\n",
    "\n",
    "# for x in thislist:\n",
    "#     if 'a' in x:\n",
    "#         print(x)\n",
    "    \n",
    "# ls = [x for x in thislist if 'a' in x]\n",
    "# print(ls)\n",
    "\n",
    "# ls = [x for x in thislist if x != 'apple']\n",
    "# print(ls)\n",
    "\n",
    "ls = [x.upper() if x != \"apple\" else \"oranage\" for x in thislist]\n",
    "print(ls)"
   ]
  },
  {
   "cell_type": "code",
   "execution_count": 45,
   "metadata": {},
   "outputs": [
    {
     "name": "stdout",
     "output_type": "stream",
     "text": [
      "brand Ford\n",
      "model Mustang\n",
      "year 1964\n"
     ]
    }
   ],
   "source": [
    "thisdict =\t{\n",
    "  \"brand\": \"Ford\",\n",
    "  \"model\": \"Mustang\",\n",
    "  \"year\": 1964\n",
    "}\n",
    "\n",
    "for x, y in thisdict.items():\n",
    "  print(x, y)"
   ]
  },
  {
   "cell_type": "code",
   "execution_count": 50,
   "metadata": {},
   "outputs": [
    {
     "name": "stdout",
     "output_type": "stream",
     "text": [
      "DECREASE\n",
      "INCREASE\n",
      "4\n"
     ]
    }
   ],
   "source": [
    "def increase(function):\n",
    "    def value(a, b):\n",
    "        a += 1\n",
    "        b += 1\n",
    "        print('INCREASE')\n",
    "        return function(a, b)\n",
    "    return value\n",
    "\n",
    "def decrease(function):\n",
    "    def value(a, b):\n",
    "        a -= 1\n",
    "        b -= 1\n",
    "        print('DECREASE')\n",
    "        return function(a, b)\n",
    "    return value\n",
    "\n",
    "@decrease\n",
    "@increase\n",
    "def fun(a, b):\n",
    "    return a + b\n",
    "\n",
    "print(fun(2, 2))"
   ]
  },
  {
   "cell_type": "code",
   "execution_count": 54,
   "metadata": {},
   "outputs": [
    {
     "name": "stdout",
     "output_type": "stream",
     "text": [
      "1\n",
      "2\n",
      "8\n",
      "12\n",
      "23\n",
      "65\n",
      "54\n",
      "34\n"
     ]
    }
   ],
   "source": [
    "lst = [1,2,8,12,23,65,78,54,34,87,90]\n",
    "\n",
    "# x = list(filter(lambda x: x <50, lst))\n",
    "# print(x)\n",
    "\n",
    "def check(a):\n",
    "    if a < 70:\n",
    "        return True\n",
    "\n",
    "x = filter(check, lst)\n",
    "\n",
    "for c in x:\n",
    "    print(c)"
   ]
  },
  {
   "cell_type": "code",
   "execution_count": 62,
   "metadata": {},
   "outputs": [
    {
     "name": "stdout",
     "output_type": "stream",
     "text": [
      "[5, 6, 5]\n"
     ]
    }
   ],
   "source": [
    "lst = ['Apple', 'Banana', 'Mango']\n",
    "\n",
    "def length(x):\n",
    "    return len(x)\n",
    "\n",
    "# x = list(map(length, lst))\n",
    "# print(x)\n",
    "\n",
    "x = map(length, lst)\n",
    "\n",
    "print(list(x))\n"
   ]
  },
  {
   "cell_type": "code",
   "execution_count": 64,
   "metadata": {},
   "outputs": [
    {
     "name": "stdout",
     "output_type": "stream",
     "text": [
      "24\n"
     ]
    }
   ],
   "source": [
    "lst = [1,2,3,4]\n",
    "\n",
    "from functools import reduce\n",
    "\n",
    "a = lambda x,y: x*y\n",
    "\n",
    "b = reduce(a, lst)\n",
    "print(b)"
   ]
  },
  {
   "cell_type": "code",
   "execution_count": 79,
   "metadata": {},
   "outputs": [
    {
     "name": "stdout",
     "output_type": "stream",
     "text": [
      "0\n",
      "1\n",
      "1\n",
      "2\n",
      "3\n",
      "5\n"
     ]
    }
   ],
   "source": [
    "\n",
    "\n",
    "# def fib(n):\n",
    "#     a, b = 0, 1\n",
    "#     while a <= n:\n",
    "#         print(a)\n",
    "#         a, b = b, a+b\n",
    "\n",
    "def fib(n):\n",
    "    a, b = 0, 1\n",
    "    while a <= n:\n",
    "        print(a)\n",
    "        a, b = b, a+b\n",
    "\n",
    "\n",
    "fib(5)\n",
    "\n",
    "\n"
   ]
  },
  {
   "cell_type": "code",
   "execution_count": 86,
   "metadata": {},
   "outputs": [
    {
     "name": "stdout",
     "output_type": "stream",
     "text": [
      "1\n",
      "3\n",
      "5\n",
      "7\n",
      "9\n",
      "11\n",
      "13\n",
      "15\n",
      "17\n",
      "19\n"
     ]
    }
   ],
   "source": [
    "\n",
    "for x in range(20):\n",
    "    if x%2 != 0:\n",
    "        # odd number\n",
    "        print(x)\n",
    "    # if x%2 == 0:\n",
    "    #     # even number\n",
    "    #     print(x)\n",
    "\n",
    "# print()\n"
   ]
  },
  {
   "cell_type": "code",
   "execution_count": 95,
   "metadata": {},
   "outputs": [
    {
     "name": "stdout",
     "output_type": "stream",
     "text": [
      "Global TExt\n"
     ]
    }
   ],
   "source": [
    "def ScopeClass():\n",
    "    def __init__(self):\n",
    "        self.name = \"ALI\"\n",
    "    \n",
    "    def local():\n",
    "        spam = 'Local Text'\n",
    "    def non_local():\n",
    "        spam = 'Non Local Text'\n",
    "    def do_global():\n",
    "        global spam\n",
    "        spam = 'Global TExt'\n",
    "    def fun(self):\n",
    "        print(self.name)\n",
    "\n",
    "    local()\n",
    "    do_global()\n",
    "    print(spam)\n",
    "    # fun()\n",
    "    \n",
    "\n",
    "pr = ScopeClass()\n",
    "\n",
    "\n"
   ]
  },
  {
   "cell_type": "code",
   "execution_count": 105,
   "metadata": {},
   "outputs": [
    {
     "name": "stdout",
     "output_type": "stream",
     "text": [
      "y namem\n",
      "y namem\n",
      "eman ym\n"
     ]
    }
   ],
   "source": [
    "\n",
    "name = \"my name\"\n",
    "\n",
    "def reverse(n):\n",
    "    if len(n) ==0:\n",
    "        return n\n",
    "    print(n[1:] + n[0])\n",
    "    return n[1:] + n[0]\n",
    "    \n",
    "print(reverse(name))\n",
    "\n",
    "print(name[::-1])"
   ]
  },
  {
   "cell_type": "code",
   "execution_count": 115,
   "metadata": {},
   "outputs": [
    {
     "name": "stdout",
     "output_type": "stream",
     "text": [
      "4\n"
     ]
    }
   ],
   "source": [
    "a = [3, 1, 5, 2, 4]\n",
    "\n",
    "for i in a[1:]:\n",
    "    j = a.index(i)\n",
    "    while j > 0 and a[j-1] > a[j]:\n",
    "        a[j], a[j-1] = a[j-1], a[j]\n",
    "        j = j - 1\n",
    "print(a[-2])"
   ]
  },
  {
   "cell_type": "code",
   "execution_count": 122,
   "metadata": {},
   "outputs": [
    {
     "name": "stdout",
     "output_type": "stream",
     "text": [
      "[1, 3, 5, 2, 4]\n"
     ]
    }
   ],
   "source": [
    "a = [3, 1, 5, 2, 4]\n",
    "\n",
    "for x in range(1, len(a)):\n",
    "    value = a[x]\n",
    "    index = x-1\n",
    "    # print(value, index)\n",
    "    if value < a[index]:\n",
    "        a[index+1] = a[index]\n",
    "        a[index] = value\n",
    "        index -= 1\n",
    "    else:\n",
    "        break\n",
    "    # while index>=0:\n",
    "print(a)\n",
    "\n",
    "\n",
    "\n"
   ]
  },
  {
   "cell_type": "code",
   "execution_count": 123,
   "metadata": {},
   "outputs": [
    {
     "name": "stdout",
     "output_type": "stream",
     "text": [
      "[-23, -6, -5, 0, 5, 23, 23, 67]\n"
     ]
    }
   ],
   "source": [
    "data_list = [-5, -23, 5, 0, 23, -6, 23, 67]\n",
    "new_list = []\n",
    "\n",
    "while data_list:\n",
    "    minimum = data_list[0]  # arbitrary number in list \n",
    "    for x in data_list: \n",
    "        if x < minimum:\n",
    "            minimum = x\n",
    "    new_list.append(minimum)\n",
    "    data_list.remove(minimum)    \n",
    "\n",
    "print(new_list)"
   ]
  }
 ],
 "metadata": {
  "interpreter": {
   "hash": "ad081ce7f6e4a00dbb309892a3fdd489fe7eda3ee0af04a8e7624067327819cf"
  },
  "kernelspec": {
   "display_name": "Python 3.9.7 64-bit ('env': venv)",
   "language": "python",
   "name": "python3"
  },
  "language_info": {
   "codemirror_mode": {
    "name": "ipython",
    "version": 3
   },
   "file_extension": ".py",
   "mimetype": "text/x-python",
   "name": "python",
   "nbconvert_exporter": "python",
   "pygments_lexer": "ipython3",
   "version": "3.9.7"
  },
  "orig_nbformat": 4
 },
 "nbformat": 4,
 "nbformat_minor": 2
}
