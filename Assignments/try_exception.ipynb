{
 "cells": [
  {
   "cell_type": "markdown",
   "metadata": {},
   "source": [
    "### TRY EXCEPT FINALLY"
   ]
  },
  {
   "cell_type": "code",
   "execution_count": 5,
   "metadata": {},
   "outputs": [
    {
     "name": "stdout",
     "output_type": "stream",
     "text": [
      "Enter Number : f\n",
      "invalid literal for int() with base 10: 'f'\n",
      "Enter Number : 5\n",
      "Success\n"
     ]
    }
   ],
   "source": [
    "while True:\n",
    "    try:\n",
    "        no = int(input('Enter Number : '))\n",
    "    except ValueError as er:\n",
    "        print(er)\n",
    "    else:\n",
    "        print('Success')\n",
    "        break"
   ]
  },
  {
   "cell_type": "code",
   "execution_count": 15,
   "metadata": {},
   "outputs": [
    {
     "name": "stdout",
     "output_type": "stream",
     "text": [
      "Enter your name : jahanzeb\n",
      "Enter your rollno : 21\n",
      "\n",
      "\n",
      "Name of Student : jahanzeb\n",
      "Roll no of Student : 21\n"
     ]
    }
   ],
   "source": [
    "def std():\n",
    "    try:\n",
    "        name = str(input('Enter your name : '))\n",
    "        rollno = int(input('Enter your rollno : '))\n",
    "    except NameError as nm:\n",
    "        print(nm)\n",
    "    except ValueError as vl:\n",
    "        print(vl)\n",
    "    finally:\n",
    "        print('\\n')\n",
    "        print('Name of Student : {}'.format(name))\n",
    "        print('Roll no of Student : {}'.format(rollno))\n",
    "\n",
    "std()"
   ]
  },
  {
   "cell_type": "code",
   "execution_count": 23,
   "metadata": {},
   "outputs": [
    {
     "name": "stdout",
     "output_type": "stream",
     "text": [
      "not writable\n"
     ]
    }
   ],
   "source": [
    "\n",
    "def book():\n",
    "    try:\n",
    "        f = open('book.txt', 'r')\n",
    "        f.write('Welcome to NextBridge')\n",
    "    except IOError as io:\n",
    "        print(io)\n",
    "    else:\n",
    "        \n",
    "        f.close()\n",
    "        print(f.read())\n",
    "\n",
    "book()"
   ]
  },
  {
   "cell_type": "code",
   "execution_count": 38,
   "metadata": {},
   "outputs": [
    {
     "name": "stdout",
     "output_type": "stream",
     "text": [
      "Enter your name : jahan\n",
      "Welcome to NextBridge\n"
     ]
    }
   ],
   "source": [
    "def book():\n",
    "    name = str(input('Enter your name : '))\n",
    "    try:\n",
    "        f = open('book.txt', 'a')\n",
    "        if f:\n",
    "            f = open('book.txt', 'w')\n",
    "            f.write('Welcome to NextBridge')\n",
    "        else:\n",
    "            f.open('book.txt', 'a')\n",
    "            f.write('Welcome to NextBridge, {}'.format(name))\n",
    "        \n",
    "    except IOError as io:\n",
    "        print(io)\n",
    "    else:\n",
    "        f = open('book.txt', 'r')\n",
    "        for x in f:\n",
    "            print(x)\n",
    "        f.close()\n",
    "        \n",
    "        \n",
    "   \n",
    "\n",
    "book()"
   ]
  }
 ],
 "metadata": {
  "kernelspec": {
   "display_name": "Python 3",
   "language": "python",
   "name": "python3"
  },
  "language_info": {
   "codemirror_mode": {
    "name": "ipython",
    "version": 3
   },
   "file_extension": ".py",
   "mimetype": "text/x-python",
   "name": "python",
   "nbconvert_exporter": "python",
   "pygments_lexer": "ipython3",
   "version": "3.7.3"
  }
 },
 "nbformat": 4,
 "nbformat_minor": 2
}
