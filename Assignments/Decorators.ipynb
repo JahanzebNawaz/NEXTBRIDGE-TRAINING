{
 "cells": [
  {
   "cell_type": "code",
   "execution_count": 17,
   "metadata": {},
   "outputs": [
    {
     "data": {
      "text/plain": [
       "'THIS IS IT'"
      ]
     },
     "execution_count": 17,
     "metadata": {},
     "output_type": "execute_result"
    }
   ],
   "source": [
    "\n",
    "def uppercase_text(function):\n",
    "    def wrapper():\n",
    "        func = function()\n",
    "        uppercase_word = func.upper()\n",
    "        return uppercase_word\n",
    "    return wrapper\n",
    "\n",
    "\n",
    "def hello():\n",
    "    return 'This is It'\n",
    "\n",
    "deco = uppercase_text(hello)\n",
    "\n",
    "deco()\n"
   ]
  },
  {
   "cell_type": "code",
   "execution_count": 19,
   "metadata": {},
   "outputs": [
    {
     "name": "stdout",
     "output_type": "stream",
     "text": [
      "Enter name Jahanzeb Nawaz\n"
     ]
    },
    {
     "data": {
      "text/plain": [
       "'WELCOME TO NEXTBRIDGE JAHANZEB NAWAZ'"
      ]
     },
     "execution_count": 19,
     "metadata": {},
     "output_type": "execute_result"
    }
   ],
   "source": [
    "\n",
    "@uppercase_text\n",
    "def welcome():\n",
    "    name = input('Enter name ')\n",
    "    word = 'Welcome to Nextbridge {}'.format(name)\n",
    "    return word\n",
    "\n",
    "welcome()"
   ]
  },
  {
   "cell_type": "code",
   "execution_count": 28,
   "metadata": {},
   "outputs": [
    {
     "name": "stdout",
     "output_type": "stream",
     "text": [
      "Division  0.75 \n",
      "Multiplication  12 \n",
      "Increment  4 , 5\n"
     ]
    },
    {
     "data": {
      "text/plain": [
       "9"
      ]
     },
     "execution_count": 28,
     "metadata": {},
     "output_type": "execute_result"
    }
   ],
   "source": [
    "#decorators \n",
    "def increase(fun):\n",
    "    def value(a,b):\n",
    "        if a > 0:\n",
    "            a += 1\n",
    "            b += 1\n",
    "            print('Increment  {} , {}'.format(a,b))\n",
    "            return fun(a,b)\n",
    "    return value\n",
    "\n",
    "def mul(fun):\n",
    "    def value(a,b):\n",
    "        if (a> 0 ) and (b > 0):\n",
    "            print('Multiplication  {} '.format(a*b))\n",
    "            return fun(a,b)\n",
    "    return value\n",
    "\n",
    "def div(fun):\n",
    "    def value(a,b):\n",
    "        if (a> 0 ) and (b > 0):\n",
    "            print('Division  {} '.format(a/b))\n",
    "            return fun(a,b)\n",
    "    return value\n",
    "\n",
    "@div\n",
    "@mul\n",
    "@increase\n",
    "def func(a,b):\n",
    "    return a + b\n",
    "\n",
    "func(3,4)"
   ]
  },
  {
   "cell_type": "code",
   "execution_count": null,
   "metadata": {},
   "outputs": [],
   "source": []
  }
 ],
 "metadata": {
  "kernelspec": {
   "display_name": "Python 3",
   "language": "python",
   "name": "python3"
  },
  "language_info": {
   "codemirror_mode": {
    "name": "ipython",
    "version": 3
   },
   "file_extension": ".py",
   "mimetype": "text/x-python",
   "name": "python",
   "nbconvert_exporter": "python",
   "pygments_lexer": "ipython3",
   "version": "3.7.3"
  }
 },
 "nbformat": 4,
 "nbformat_minor": 2
}
