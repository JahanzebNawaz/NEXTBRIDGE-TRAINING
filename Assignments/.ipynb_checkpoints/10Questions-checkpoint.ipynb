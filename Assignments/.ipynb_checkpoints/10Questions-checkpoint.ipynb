{
 "cells": [
  {
   "cell_type": "markdown",
   "metadata": {},
   "source": [
    "#### Question One"
   ]
  },
  {
   "cell_type": "code",
   "execution_count": 3,
   "metadata": {},
   "outputs": [
    {
     "name": "stdout",
     "output_type": "stream",
     "text": [
      "\n",
      "Twinkle, twinkle, little star,\n",
      "\tHow I wonder what you are! \n",
      "\t\tUp above the world so high,   \t\t\n",
      "\t\tLike a diamond in the sky. \n",
      "Twinkle, twinkle, little star, \n",
      "\tHow I wonder what you are\n",
      "\n"
     ]
    }
   ],
   "source": [
    "poem = \"\"\"\n",
    "Twinkle, twinkle, little star,\n",
    "\tHow I wonder what you are! \n",
    "\t\tUp above the world so high,   \t\t\n",
    "\t\tLike a diamond in the sky. \n",
    "Twinkle, twinkle, little star, \n",
    "\tHow I wonder what you are\n",
    "\"\"\"\n",
    "\n",
    "print(poem)"
   ]
  },
  {
   "cell_type": "markdown",
   "metadata": {},
   "source": [
    "#### Question Two"
   ]
  },
  {
   "cell_type": "code",
   "execution_count": 12,
   "metadata": {},
   "outputs": [
    {
     "name": "stdout",
     "output_type": "stream",
     "text": [
      "3.7.3 (default, Mar 27 2019, 22:11:17) \n",
      "[GCC 7.3.0]\n",
      "/home/jk/anaconda3/bin/python\n",
      "sys.version_info(major=3, minor=7, micro=3, releaselevel='final', serial=0)\n"
     ]
    }
   ],
   "source": [
    "#to check python version\n",
    "import sys\n",
    "print(sys.version)\n",
    "print(sys.executable)\n",
    "print(sys.version_info)"
   ]
  },
  {
   "cell_type": "markdown",
   "metadata": {},
   "source": [
    "#### Question Three"
   ]
  },
  {
   "cell_type": "code",
   "execution_count": 17,
   "metadata": {},
   "outputs": [
    {
     "name": "stdout",
     "output_type": "stream",
     "text": [
      "Current Date Time : \n",
      "2019-09-29 00:19:49.248877\n"
     ]
    }
   ],
   "source": [
    "#Print Date Time\n",
    "import datetime\n",
    "print('Current Date Time : ')\n",
    "date= datetime.datetime.now()\n",
    "print(date)"
   ]
  },
  {
   "cell_type": "markdown",
   "metadata": {},
   "source": [
    "#### Question Four"
   ]
  },
  {
   "cell_type": "code",
   "execution_count": 1,
   "metadata": {},
   "outputs": [
    {
     "name": "stdout",
     "output_type": "stream",
     "text": [
      "Enter First Name : Jahanzeb\n",
      "Enter Last Name : Nawaz\n",
      "Name in reverse order :  Nawaz Jahanzeb\n"
     ]
    }
   ],
   "source": [
    "#Get User Name and Last Name and print it into reverse order\n",
    "\n",
    "first_name = str(input('Enter First Name : ')) \n",
    "last_name = str(input('Enter Last Name : '))\n",
    "\n",
    "print('Name in reverse order : ', last_name, first_name)"
   ]
  },
  {
   "cell_type": "markdown",
   "metadata": {},
   "source": [
    "#### Question Five"
   ]
  },
  {
   "cell_type": "code",
   "execution_count": 6,
   "metadata": {},
   "outputs": [
    {
     "name": "stdout",
     "output_type": "stream",
     "text": [
      "Enter raidus of circle : 1.1\n",
      "The area of the circle with radius  3.8013271108436504\n"
     ]
    }
   ],
   "source": [
    "# enter radius of circle and calculate area\n",
    "\n",
    "from math import pi\n",
    "\n",
    "radius = float(input('Enter raidus of circle : '))\n",
    "\n",
    "rs = pi* radius**2\n",
    "\n",
    "print(\"The area of the circle with radius \", rs)\n"
   ]
  },
  {
   "cell_type": "markdown",
   "metadata": {},
   "source": [
    "#### Question Six"
   ]
  },
  {
   "cell_type": "code",
   "execution_count": 7,
   "metadata": {},
   "outputs": [
    {
     "name": "stdout",
     "output_type": "stream",
     "text": [
      "Enter comma-seperated numbers 3, 5, 7, 23\n",
      "['3', ' 5', ' 7', ' 23']\n",
      "('3', ' 5', ' 7', ' 23')\n"
     ]
    }
   ],
   "source": [
    "#Enter comma-separated numbers and convert them into list and tuple\n",
    "\n",
    "no = input(\"Enter comma-seperated numbers \")\n",
    "split = no.split(',')\n",
    "lst = list(split)\n",
    "tup = tuple(split)\n",
    "\n",
    "print(lst)\n",
    "print(tup)"
   ]
  },
  {
   "cell_type": "markdown",
   "metadata": {},
   "source": [
    "#### Question Seven"
   ]
  },
  {
   "cell_type": "code",
   "execution_count": 10,
   "metadata": {},
   "outputs": [
    {
     "data": {
      "text/plain": [
       "'127.0.1.1'"
      ]
     },
     "execution_count": 10,
     "metadata": {},
     "output_type": "execute_result"
    }
   ],
   "source": [
    "#Write a Python to find local IP addresses using Python's stdlib\n",
    "\n",
    "import socket\n",
    "\n",
    "socket.gethostbyname(socket.gethostname())\n",
    "\n"
   ]
  },
  {
   "cell_type": "markdown",
   "metadata": {},
   "source": [
    "#### Question Eight"
   ]
  },
  {
   "cell_type": "code",
   "execution_count": 13,
   "metadata": {},
   "outputs": [
    {
     "name": "stdout",
     "output_type": "stream",
     "text": [
      "0\n",
      "{}\n"
     ]
    }
   ],
   "source": [
    "#program to empty a variable\n",
    "\n",
    "# Sample data: n=20\n",
    "# d = {\"x\":200}\n",
    "# Expected Output : 0\n",
    "# {}\n",
    "\n",
    "n = 20\n",
    "print(type(n)())\n",
    "\n",
    "d = {\"x\":200}\n",
    "print(type(d)())\n"
   ]
  },
  {
   "cell_type": "markdown",
   "metadata": {},
   "source": [
    "#### Question Nine"
   ]
  },
  {
   "cell_type": "code",
   "execution_count": 38,
   "metadata": {},
   "outputs": [
    {
     "name": "stdout",
     "output_type": "stream",
     "text": [
      "OS Name : posix\n",
      "Platform name :  linux\n",
      "Os Details :  posix.uname_result(sysname='Linux', nodename='jk-root', release='5.0.0-13-generic', version='#14-Ubuntu SMP Mon Apr 15 14:59:14 UTC 2019', machine='x86_64')\n"
     ]
    }
   ],
   "source": [
    "import os, sys\n",
    "\n",
    "print('OS Name :', os.name)\n",
    "print('Platform name : ' , sys.platform)\n",
    "print('Os Details : ', os.uname())\n",
    "\n"
   ]
  },
  {
   "cell_type": "markdown",
   "metadata": {},
   "source": [
    "#### Question Ten"
   ]
  },
  {
   "cell_type": "code",
   "execution_count": 39,
   "metadata": {},
   "outputs": [
    {
     "name": "stdout",
     "output_type": "stream",
     "text": [
      "386\n",
      "462\n",
      "418\n",
      "904\n",
      "344\n",
      "236\n",
      "566\n",
      "978\n",
      "328\n",
      "162\n",
      "758\n",
      "918\n"
     ]
    }
   ],
   "source": [
    "no = [386,462,47,418,904,344,236,375,823,566,597,978,328,615,953,345,399,162,\n",
    "          758,219,918,237,412,566,826,248,866,950,626,949,687,217,815,67,104,58,\n",
    "          512,24,892,894,767,553,81,379,843,831,445,742,717,958,743,527]\n",
    "for n in no:\n",
    "    if n%2==0:\n",
    "        print (n)\n",
    "    elif n == 237:\n",
    "            break\n"
   ]
  }
 ],
 "metadata": {
  "kernelspec": {
   "display_name": "Python 3",
   "language": "python",
   "name": "python3"
  },
  "language_info": {
   "codemirror_mode": {
    "name": "ipython",
    "version": 3
   },
   "file_extension": ".py",
   "mimetype": "text/x-python",
   "name": "python",
   "nbconvert_exporter": "python",
   "pygments_lexer": "ipython3",
   "version": "3.7.3"
  }
 },
 "nbformat": 4,
 "nbformat_minor": 2
}
