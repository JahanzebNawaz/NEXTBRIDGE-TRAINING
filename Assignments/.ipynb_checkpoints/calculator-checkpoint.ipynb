{
 "cells": [
  {
   "cell_type": "code",
   "execution_count": 6,
   "metadata": {},
   "outputs": [
    {
     "name": "stdout",
     "output_type": "stream",
     "text": [
      "Enter number : 4\n",
      "Enter operator : /\n",
      "Enter Number : 4\n",
      "1.0  is result\n"
     ]
    }
   ],
   "source": [
    "#python calculator with if elif statements\n",
    "\n",
    "num1 = int(input('Enter number : '))\n",
    "op = input('Enter operator : ')\n",
    "num2 = int(input('Enter Number : '))\n",
    "\n",
    "if op == '+':\n",
    "    result = num1 + num2\n",
    "    print(result, ' is result')\n",
    "elif op == '-':\n",
    "    result = num1 - num2\n",
    "    print(result, ' is result')\n",
    "elif op == '/':\n",
    "    result = num1 / num2\n",
    "    print(result, ' is result')\n",
    "elif op == '*':\n",
    "    result = num1 + num2\n",
    "    print(result, ' is result')\n",
    "else:\n",
    "    print('Invalid Operation')\n"
   ]
  },
  {
   "cell_type": "code",
   "execution_count": 8,
   "metadata": {},
   "outputs": [
    {
     "name": "stdout",
     "output_type": "stream",
     "text": [
      "Enter number : 3\n",
      "Enter operator : -\n",
      "Enter Number : 4\n",
      "-1 is subtraction result\n"
     ]
    }
   ],
   "source": [
    "num1 = int(input('Enter number : '))\n",
    "op = input('Enter operator : ')\n",
    "num2 = int(input('Enter Number : '))\n",
    "\n",
    "if op == '+':\n",
    "    result = num1 + num2\n",
    "    print(f\" {result} is sum result \")\n",
    "elif op == '-':\n",
    "    result = num1 - num2\n",
    "    print(f\"{result} is subtraction result\")\n",
    "elif op == '/':\n",
    "    result = num1 / num2\n",
    "    print(f\" {result} is divison result\")\n",
    "elif op == '*':\n",
    "    result = num1 * num2\n",
    "    print(f\"{result} is multiplication result \")\n",
    "else:\n",
    "    print('Invalid Operation')"
   ]
  },
  {
   "cell_type": "code",
   "execution_count": 3,
   "metadata": {},
   "outputs": [
    {
     "name": "stdout",
     "output_type": "stream",
     "text": [
      "Enter number : 2\n",
      "Enter operator : /\n",
      "Enter Number : 2\n",
      " 1.0 is divison result of 2 / 2 \n"
     ]
    }
   ],
   "source": [
    "num1 = int(input('Enter number : '))\n",
    "op = input('Enter operator : ')\n",
    "num2 = int(input('Enter Number : '))\n",
    "\n",
    "if op == '+':\n",
    "    result = num1 + num2\n",
    "    print(\" %s is sum result of %s + %s \" % (result, num1, num2))\n",
    "elif op == '-':\n",
    "    result = num1 - num2\n",
    "    print(\"%s  is subtraction result of %s - %s\" % (result, num1, num2))\n",
    "elif op == '/':\n",
    "    result = num1 / num2\n",
    "    print(\" %s is divison result of %s / %s \" % (result, num1, num2))\n",
    "elif op == '*':\n",
    "    result = num1 * num2\n",
    "    print(\" %s is multiplication result of %s * %s \" % (result, num1, num2))\n",
    "# else:\n",
    "#     print('Invalid Operation')\n",
    "    "
   ]
  },
  {
   "cell_type": "code",
   "execution_count": 2,
   "metadata": {},
   "outputs": [
    {
     "name": "stdout",
     "output_type": "stream",
     "text": [
      "Enter number : 3\n",
      "Enter Number : 4\n",
      "1 Add\n",
      "2 Sub\n",
      "3 Div\n",
      "4 Mul\n",
      "Enter operation : 2\n",
      "-1  is result\n"
     ]
    }
   ],
   "source": [
    "#calculator by choise\n",
    "\n",
    "num1 = int(input('Enter number : '))\n",
    "num2 = int(input('Enter Number : '))\n",
    "\n",
    "choice = {1: 'Add', 2: 'Sub', 3: 'Div', 4: 'Mul'}\n",
    "\n",
    "for k,v in zip(choice.keys(), choice.values()):\n",
    "    print(k,v)\n",
    "\n",
    "optn = int(input('Enter operation : '))\n",
    "\n",
    "if optn == 1:\n",
    "    result = num1 + num2\n",
    "    print(result, ' is result')\n",
    "elif optn == 2:\n",
    "    result = num1 - num2\n",
    "    print(result, ' is result')\n",
    "elif optn == 3:\n",
    "    result = num1 * num2\n",
    "    print(result, ' is result')\n",
    "elif optn == 4:\n",
    "    result = num1 / num2\n",
    "    print(result, ' is result')\n",
    "else:\n",
    "    print('Invaild Choice')\n",
    "\n",
    "    "
   ]
  },
  {
   "cell_type": "code",
   "execution_count": 9,
   "metadata": {},
   "outputs": [
    {
     "name": "stdout",
     "output_type": "stream",
     "text": [
      "Enter number : 3\n",
      "Enter Number : 4\n",
      "1 Add\n",
      "2 Sub\n",
      "3 Div\n",
      "4 Mul\n",
      "Enter operation : 1\n"
     ]
    },
    {
     "data": {
      "text/plain": [
       "'7 is result'"
      ]
     },
     "execution_count": 9,
     "metadata": {},
     "output_type": "execute_result"
    }
   ],
   "source": [
    "#calculator throgh function and passing paramters\n",
    "\n",
    "def calculator(num1, num2, optn):\n",
    "    string = ''\n",
    "    if optn == 1:\n",
    "        result = num1 + num2\n",
    "        string = str(result) + ' is result' \n",
    "        return string      \n",
    "    elif optn == 2:\n",
    "        result = num1 - num2\n",
    "        string = str(result) + ' is result'\n",
    "        return string\n",
    "    elif optn == 3:\n",
    "        result = num1 * num2\n",
    "        string = str(result)+ ' is result'\n",
    "        return string\n",
    "    elif optn == 4:\n",
    "        result = num1 / num2\n",
    "        string = str(result)+ ' is result'\n",
    "        return string\n",
    "    else:\n",
    "        return ' Invalid Operation '\n",
    "        \n",
    "# outside function code\n",
    "num1 = int(input('Enter number : '))\n",
    "num2 = int(input('Enter Number : '))\n",
    "\n",
    "choice = {1: 'Add', 2: 'Sub', 3: 'Div', 4: 'Mul'}\n",
    "\n",
    "for k,v in zip(choice.keys(), choice.values()):\n",
    "    print(k,v)\n",
    "\n",
    "optn = int(input('Enter operation : '))\n",
    "\n",
    "calculator(num1, num2, optn)"
   ]
  },
  {
   "cell_type": "code",
   "execution_count": null,
   "metadata": {},
   "outputs": [],
   "source": [
    "#calculator throgh function and passing paramters\n",
    "\n",
    "def calculator():\n",
    "    num1 = int(input('Enter number : '))\n",
    "    num2 = int(input('Enter Number : '))\n",
    "\n",
    "    choice = {1: 'Add', 2: 'Sub', 3: 'Div', 4: 'Mul'}\n",
    "\n",
    "    for k,v in zip(choice.keys(), choice.values()):\n",
    "        print(k,v)\n",
    "\n",
    "    optn = int(input('Enter operation : '))\n",
    "    \n",
    "    string = ''\n",
    "    if optn == 1:\n",
    "        result = num1 + num2\n",
    "        string = str(result) + ' is result' \n",
    "        return string      \n",
    "    elif optn == 2:\n",
    "        result = num1 - num2\n",
    "        string = str(result) + ' is result'\n",
    "        return string\n",
    "    elif optn == 3:\n",
    "        result = num1 * num2\n",
    "        string = str(result)+ ' is result'\n",
    "        return string\n",
    "    elif optn == 4:\n",
    "        result = num1 / num2\n",
    "        string = str(result)+ ' is result'\n",
    "        return string\n",
    "    else:\n",
    "        return ' Invalid Operation '\n",
    "\n",
    "def run():\n",
    "    choice = input(\"Want to Calculate ? 'Y' for yes 'N' for No : \")\n",
    "    if choice.lower() == 'y':\n",
    "        Calculator()\n",
    "    elif choice.lower() == 'n':\n",
    "        print(\"Exiting Calculator\")\n",
    "        exit()\n",
    "    else:\n",
    "        Retry()\n",
    "\n",
    "run()"
   ]
  }
 ],
 "metadata": {
  "kernelspec": {
   "display_name": "Python 3",
   "language": "python",
   "name": "python3"
  },
  "language_info": {
   "codemirror_mode": {
    "name": "ipython",
    "version": 3
   },
   "file_extension": ".py",
   "mimetype": "text/x-python",
   "name": "python",
   "nbconvert_exporter": "python",
   "pygments_lexer": "ipython3",
   "version": "3.7.3"
  }
 },
 "nbformat": 4,
 "nbformat_minor": 2
}
