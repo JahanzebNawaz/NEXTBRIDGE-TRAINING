{
 "cells": [
  {
   "cell_type": "code",
   "execution_count": 1,
   "metadata": {},
   "outputs": [
    {
     "name": "stdout",
     "output_type": "stream",
     "text": [
      "<__main__.Child object at 0x7ff458647160>\n"
     ]
    }
   ],
   "source": [
    "# Multi Level Inheritance\n",
    "\n",
    "class Parent():\n",
    "    def __init__(self):\n",
    "        print('Parent Class')\n",
    "#         pass\n",
    "\n",
    "class Child(Parent):\n",
    "    def __init__(self):\n",
    "        super()\n",
    "        \n",
    "\n",
    "cld = Child()\n",
    "print(cld)"
   ]
  },
  {
   "cell_type": "code",
   "execution_count": 14,
   "metadata": {},
   "outputs": [
    {
     "name": "stdout",
     "output_type": "stream",
     "text": [
      "Child Class2\n",
      "Child Class \n",
      "Parent Class\n",
      "Child2 Class Function  22\n",
      "Child Class Function  21\n",
      "Parent Clas Function  23\n"
     ]
    }
   ],
   "source": [
    "# Multi Level Inheritance\n",
    "\n",
    "class Parent():\n",
    "    def __init__(self):\n",
    "        print('Parent Class')\n",
    "    \n",
    "    def parent_fun(self,a):\n",
    "        print('Parent Clas Function ', a + 3)\n",
    "\n",
    "class Child(Parent):\n",
    "    def __init__(self):\n",
    "        print('Child Class ')\n",
    "        super().__init__()\n",
    "        \n",
    "    def parent_fun(self, a):\n",
    "        print('Child Class Function ',a + 1)\n",
    "        super().parent_fun(a)\n",
    "        \n",
    "        \n",
    "class Child2(Child):\n",
    "    def __init__(self):\n",
    "        print('Child Class2')\n",
    "        super().__init__()\n",
    "        \n",
    "    def parent_fun(self,a):\n",
    "        print('Child2 Class Function ', a + 2)\n",
    "        super().parent_fun(a)\n",
    "        \n",
    "        \n",
    "        \n",
    "\n",
    "if __name__ == '__main__':\n",
    "    chd = Child2()\n",
    "    chd.parent_fun(20)\n",
    "    "
   ]
  },
  {
   "cell_type": "code",
   "execution_count": null,
   "metadata": {},
   "outputs": [],
   "source": []
  }
 ],
 "metadata": {
  "kernelspec": {
   "display_name": "Python 3",
   "language": "python",
   "name": "python3"
  },
  "language_info": {
   "codemirror_mode": {
    "name": "ipython",
    "version": 3
   },
   "file_extension": ".py",
   "mimetype": "text/x-python",
   "name": "python",
   "nbconvert_exporter": "python",
   "pygments_lexer": "ipython3",
   "version": "3.7.3"
  }
 },
 "nbformat": 4,
 "nbformat_minor": 2
}
