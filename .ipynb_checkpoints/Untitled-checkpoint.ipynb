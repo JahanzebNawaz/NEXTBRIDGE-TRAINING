{
 "cells": [
  {
   "cell_type": "code",
   "execution_count": 36,
   "metadata": {},
   "outputs": [],
   "source": [
    "num = 10\n",
    "check = False\n",
    "\n",
    "for no in range(num):\n",
    "#     print(no, 'loop 1')\n",
    "    if no > 1:\n",
    "        for no2 in range(2, num):\n",
    "#             print(no2, 'loop Two')\n",
    "            if (no % no2) == 0:\n",
    "                check = True\n",
    "#                 print(no)\n",
    "                break\n",
    "                \n",
    "        if not check:\n",
    "            print(no)"
   ]
  },
  {
   "cell_type": "code",
   "execution_count": 49,
   "metadata": {},
   "outputs": [
    {
     "name": "stdout",
     "output_type": "stream",
     "text": [
      "2\n",
      "3\n",
      "5\n",
      "7\n",
      "11\n",
      "13\n",
      "17\n",
      "19\n",
      "23\n",
      "29\n"
     ]
    }
   ],
   "source": [
    "#format 1 to get even no in range\n",
    "rng = 30\n",
    "for num in range(0,rng + 1):  \n",
    "    if num > 1:\n",
    "        for i in range(2,num):\n",
    "            if (num % i) == 0:\n",
    "                break\n",
    "        else:\n",
    "            print(num)\n",
    "        "
   ]
  },
  {
   "cell_type": "code",
   "execution_count": 64,
   "metadata": {},
   "outputs": [
    {
     "name": "stdout",
     "output_type": "stream",
     "text": [
      "2\n",
      "3\n",
      "5\n",
      "7\n",
      "11\n",
      "13\n",
      "17\n",
      "19\n",
      "23\n",
      "29\n"
     ]
    }
   ],
   "source": [
    "# Initialize a list\n",
    "prime = []\n",
    "#it will run loop on all numbers in range\n",
    "for checkno in range(30):\n",
    "    #if num is greater then 1 go for next inner loop\n",
    "    status = True\n",
    "    if checkno > 1:\n",
    "        #if num in range is 2 or greater and check between range checkno\n",
    "        for num in range(2, checkno):\n",
    "            #if checkno % num is equal to 0 make status False\n",
    "            if (checkno % num) == 0:\n",
    "                status = False\n",
    "        #if status is True append checkno into list\n",
    "        if status:\n",
    "            prime.append(checkno)\n",
    "\n",
    "for x in prime:\n",
    "    print(x)\n",
    "    "
   ]
  },
  {
   "cell_type": "code",
   "execution_count": null,
   "metadata": {},
   "outputs": [],
   "source": []
  }
 ],
 "metadata": {
  "kernelspec": {
   "display_name": "Python 3",
   "language": "python",
   "name": "python3"
  },
  "language_info": {
   "codemirror_mode": {
    "name": "ipython",
    "version": 3
   },
   "file_extension": ".py",
   "mimetype": "text/x-python",
   "name": "python",
   "nbconvert_exporter": "python",
   "pygments_lexer": "ipython3",
   "version": "3.7.3"
  }
 },
 "nbformat": 4,
 "nbformat_minor": 2
}
