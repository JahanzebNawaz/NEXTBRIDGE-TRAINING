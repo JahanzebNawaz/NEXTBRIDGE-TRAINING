{
 "cells": [
  {
   "cell_type": "code",
   "execution_count": 17,
   "metadata": {},
   "outputs": [
    {
     "data": {
      "text/plain": [
       "'THIS IS IT'"
      ]
     },
     "execution_count": 17,
     "metadata": {},
     "output_type": "execute_result"
    }
   ],
   "source": [
    "\n",
    "def uppercase_text(function):\n",
    "    def wrapper():\n",
    "        func = function()\n",
    "        uppercase_word = func.upper()\n",
    "        return uppercase_word\n",
    "    return wrapper\n",
    "\n",
    "\n",
    "def hello():\n",
    "    return 'This is It'\n",
    "\n",
    "deco = uppercase_text(hello)\n",
    "\n",
    "deco()\n"
   ]
  },
  {
   "cell_type": "code",
   "execution_count": 19,
   "metadata": {},
   "outputs": [
    {
     "name": "stdout",
     "output_type": "stream",
     "text": [
      "Enter name Jahanzeb Nawaz\n"
     ]
    },
    {
     "data": {
      "text/plain": [
       "'WELCOME TO NEXTBRIDGE JAHANZEB NAWAZ'"
      ]
     },
     "execution_count": 19,
     "metadata": {},
     "output_type": "execute_result"
    }
   ],
   "source": [
    "\n",
    "@uppercase_text\n",
    "def welcome():\n",
    "    name = input('Enter name ')\n",
    "    word = 'Welcome to Nextbridge {}'.format(name)\n",
    "    return word\n",
    "\n",
    "welcome()"
   ]
  },
  {
   "cell_type": "code",
   "execution_count": null,
   "metadata": {},
   "outputs": [],
   "source": []
  }
 ],
 "metadata": {
  "kernelspec": {
   "display_name": "Python 3",
   "language": "python",
   "name": "python3"
  },
  "language_info": {
   "codemirror_mode": {
    "name": "ipython",
    "version": 3
   },
   "file_extension": ".py",
   "mimetype": "text/x-python",
   "name": "python",
   "nbconvert_exporter": "python",
   "pygments_lexer": "ipython3",
   "version": "3.7.3"
  }
 },
 "nbformat": 4,
 "nbformat_minor": 2
}
