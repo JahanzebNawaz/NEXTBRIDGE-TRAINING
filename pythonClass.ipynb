{
 "cells": [
  {
   "cell_type": "code",
   "execution_count": 2,
   "metadata": {},
   "outputs": [
    {
     "name": "stdout",
     "output_type": "stream",
     "text": [
      "After Assignment :  Test Spam\n",
      "After Assignmnet :  Test Spam\n",
      "After Assignment :  Test Spam\n",
      "Global TExt\n"
     ]
    }
   ],
   "source": [
    "def ScopeClass():\n",
    "    def local():\n",
    "        spam = 'Local Text'\n",
    "    def non_local():\n",
    "        spam = 'Non Local Text'\n",
    "    def do_global():\n",
    "        global spam\n",
    "        spam = 'Global TExt'\n",
    "    \n",
    "    spam = 'Test Spam'\n",
    "    local()\n",
    "    print('After Assignment : ', spam)\n",
    "    non_local()\n",
    "    print('After Assignmnet : ', spam)\n",
    "    do_global()\n",
    "    print('After Assignment : ', spam)\n",
    "    \n",
    "ScopeClass()\n",
    "print(spam)\n",
    "    "
   ]
  }
 ],
 "metadata": {
  "kernelspec": {
   "display_name": "Python 3",
   "language": "python",
   "name": "python3"
  },
  "language_info": {
   "codemirror_mode": {
    "name": "ipython",
    "version": 3
   },
   "file_extension": ".py",
   "mimetype": "text/x-python",
   "name": "python",
   "nbconvert_exporter": "python",
   "pygments_lexer": "ipython3",
   "version": "3.7.3"
  }
 },
 "nbformat": 4,
 "nbformat_minor": 2
}
