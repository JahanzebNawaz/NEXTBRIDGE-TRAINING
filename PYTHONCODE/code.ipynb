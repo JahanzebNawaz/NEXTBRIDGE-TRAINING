{
 "nbformat": 4,
 "nbformat_minor": 2,
 "metadata": {
  "language_info": {
   "name": "python",
   "codemirror_mode": {
    "name": "ipython",
    "version": 3
   },
   "version": "3.7.3"
  },
  "orig_nbformat": 2,
  "file_extension": ".py",
  "mimetype": "text/x-python",
  "name": "python",
  "npconvert_exporter": "python",
  "pygments_lexer": "ipython3",
  "version": 3
 },
 "cells": [
  {
   "cell_type": "code",
   "execution_count": 2,
   "metadata": {},
   "outputs": [
    {
     "data": {
      "text/plain": "'THIS IS IT'"
     },
     "execution_count": 2,
     "metadata": {},
     "output_type": "execute_result"
    }
   ],
   "source": [
    "\n",
    "\n",
    "def uppercase_text(function):\n",
    "    def wrapper():\n",
    "        func = function()\n",
    "        uppercase_word = func.upper()\n",
    "        return uppercase_word\n",
    "    return wrapper\n",
    "\n",
    "\n",
    "def hello():\n",
    "    return 'This is It'\n",
    "\n",
    "deco = uppercase_text(hello)\n",
    "\n",
    "deco()\n",
    "\n"
   ]
  },
  {
   "cell_type": "code",
   "execution_count": 13,
   "metadata": {},
   "outputs": [
    {
     "name": "stdout",
     "output_type": "stream",
     "text": "6 and 7\n"
    }
   ],
   "source": [
    "\n",
    "\n",
    "def increase(function):\n",
    "    def inc(a,b):\n",
    "        if a > 0:\n",
    "            a += 1\n",
    "            b += 1\n",
    "            return function(a,b)\n",
    "    return inc\n",
    "\n",
    "\n",
    "@increase\n",
    "def value(a,b):\n",
    "    print(\"{0} and {1}\".format(a,b))\n",
    "\n",
    "value(5,6)"
   ]
  },
  {
   "cell_type": "code",
   "execution_count": 22,
   "metadata": {},
   "outputs": [
    {
     "name": "stdout",
     "output_type": "stream",
     "text": "5 and 6\n"
    }
   ],
   "source": [
    "def decrease(function):\n",
    "    def dec(a,b):\n",
    "        if (a>0) and (b>0):\n",
    "            a -= 1\n",
    "            b -= 1\n",
    "            return function(a,b)\n",
    "    return dec\n",
    "\n",
    "\n",
    "# @decrease\n",
    "# value(5,6)\n",
    "@increase\n",
    "@decrease\n",
    "def value(a,b):\n",
    "    print(\"{0} and {1}\".format(a,b))\n",
    "\n",
    "value(5,6)"
   ]
  },
  {
   "cell_type": "code",
   "execution_count": 33,
   "metadata": {},
   "outputs": [
    {
     "data": {
      "text/plain": "'THIS IS A WORD'"
     },
     "execution_count": 33,
     "metadata": {},
     "output_type": "execute_result"
    }
   ],
   "source": [
    "def upper_case(function):\n",
    "    def upper_word():\n",
    "        # fun = function()\n",
    "        word = function().upper()\n",
    "        return word\n",
    "    return upper_word\n",
    "\n",
    "@upper_case\n",
    "def word():\n",
    "    return 'This is a word'\n",
    "\n",
    "\n",
    "word()"
   ]
  },
  {
   "cell_type": "code",
   "execution_count": 88,
   "metadata": {},
   "outputs": [
    {
     "name": "stdout",
     "output_type": "stream",
     "text": "[1, 3, 4, 5, 7]\n"
    },
    {
     "data": {
      "text/plain": "[1, 3, 4, 5, 7, 2, 6, 8, 9]"
     },
     "execution_count": 88,
     "metadata": {},
     "output_type": "execute_result"
    }
   ],
   "source": [
    "list1 = [1,3,4,5,7]\n",
    "list2 = [2,3,4,6,8,9,7]\n",
    "\n",
    "# x = [x for x in list1  if x in list2]\n",
    "# x\n",
    "lst = []\n",
    "lst = [x for x in list1]\n",
    "print(lst)\n",
    "lst += [x for x in list2 if x not in list1]\n",
    "\n",
    "# lst = [x for x in list1]\n",
    "# lst = filter(list1, list2)\n",
    "lst\n"
   ]
  },
  {
   "cell_type": "code",
   "execution_count": 12,
   "metadata": {},
   "outputs": [
    {
     "data": {
      "text/plain": "[]"
     },
     "execution_count": 12,
     "metadata": {},
     "output_type": "execute_result"
    }
   ],
   "source": [
    "letters = ['a', 'e', 'i', 'o', 'u'] \n",
    "\n",
    "lst = []\n",
    "def check(var):\n",
    "    letters = ['a', 'e', 'i', 'o', 'u'] \n",
    "\n",
    "    if (var in letters):\n",
    "        lst.append(var)\n",
    "\n",
    "sequence = ['g', 'e', 'e', 'j', 'k','u', 's', 'p', 'r', 'i'] \n",
    "\n",
    "words = filter(check, sequence)\n",
    "\n",
    "lst\n",
    "\n",
    "\n"
   ]
  },
  {
   "cell_type": "code",
   "execution_count": 113,
   "metadata": {},
   "outputs": [
    {
     "data": {
      "text/plain": "([0, 9, 2], [4, 5, 6])"
     },
     "execution_count": 113,
     "metadata": {},
     "output_type": "execute_result"
    }
   ],
   "source": [
    "\n",
    "a = [0,1,2]\n",
    "b = [4,5,6]\n",
    "\n",
    "t = (a,b)\n",
    "\n",
    "t[0][1] = 9\n",
    "t\n"
   ]
  },
  {
   "cell_type": "code",
   "execution_count": 106,
   "metadata": {},
   "outputs": [
    {
     "name": "stdout",
     "output_type": "stream",
     "text": "1 :  5\n 5 :  2\n 3 :  3\n 4 :  3\n 2 :  4\n"
    }
   ],
   "source": [
    "def CountFrequency(my_list): \n",
    "      \n",
    "    # Creating an empty dictionary  \n",
    "    freq = {} \n",
    "    for items in my_list: \n",
    "        freq[items] = my_list.count(items) \n",
    "      \n",
    "    for key, value in freq.items(): \n",
    "        print (\"% d : % d\"%(key, value)) \n",
    "  \n",
    "# Driver function \n",
    "if __name__ == \"__main__\":  \n",
    "    my_list =[1, 1, 1, 5, 5, 3, 1, 3, 3, 1, 4, 4, 4, 2, 2, 2, 2] \n",
    "    CountFrequency(my_list) "
   ]
  },
  {
   "cell_type": "code",
   "execution_count": 111,
   "metadata": {},
   "outputs": [
    {
     "name": "stdout",
     "output_type": "stream",
     "text": "a = 2 \nb = 3 \nc = 1 \nd = 2 \ne = 1 \n"
    }
   ],
   "source": [
    "def check_frequecy(lst):\n",
    "    freq = {}\n",
    "    for item in lst:\n",
    "        freq[item] = lst.count(item)\n",
    "    \n",
    "    # for k, v in freq.items():\n",
    "    #     print('%s = %s '%(k,v))\n",
    "\n",
    "lst_check = ['a', 'b', 'c', 'b', 'd', 'd', 'e', 'b', 'a']\n",
    "\n",
    "check_frequecy(lst_check)"
   ]
  },
  {
   "cell_type": "code",
   "execution_count": 6,
   "metadata": {},
   "outputs": [
    {
     "name": "stdout",
     "output_type": "stream",
     "text": "{1: 5, 5: 2, 3: 3, 4: 3, 2: 4}\n"
    }
   ],
   "source": [
    "def check(lst):\n",
    "    frq = {}\n",
    "    for x in lst:\n",
    "        frq[x] = lst.count(x)\n",
    "        \n",
    "    print(frq)\n",
    "    \n",
    "\n",
    "my_list =[1, 1, 1, 5, 5, 3, 1, 3, 3, 1, 4, 4, 4, 2, 2, 2, 2] \n",
    "\n",
    "check(my_list)\n"
   ]
  },
  {
   "cell_type": "code",
   "execution_count": 122,
   "metadata": {},
   "outputs": [
    {
     "data": {
      "text/plain": "'code practice quiz geeks'"
     },
     "execution_count": 122,
     "metadata": {},
     "output_type": "execute_result"
    }
   ],
   "source": [
    "def reverseWords(input):\n",
    "    inputWords = input.split(\" \") \n",
    "    inputWords = inputWords[-1::-1]  \n",
    "    output = ' '.join(inputWords)       \n",
    "    return output \n",
    "\n",
    "input = 'geeks quiz practice code'\n",
    "reverseWords(input) "
   ]
  },
  {
   "cell_type": "code",
   "execution_count": 1,
   "metadata": {},
   "outputs": [
    {
     "data": {
      "text/plain": "'code practice quiz geeks'"
     },
     "execution_count": 1,
     "metadata": {},
     "output_type": "execute_result"
    }
   ],
   "source": [
    "text = 'geeks quiz practice code'\n",
    "\n",
    "lst = text.split()\n",
    "\n",
    "lst.reverse()\n",
    "lst2 = ' '.join(lst)\n",
    "lst2\n",
    "\n"
   ]
  },
  {
   "cell_type": "code",
   "execution_count": 155,
   "metadata": {},
   "outputs": [
    {
     "name": "stdout",
     "output_type": "stream",
     "text": "Fibonacci sequence:\n0\n1\n1\n2\n3\n5\n8\n13\n21\n34\n"
    }
   ],
   "source": [
    "def recur_fibo(n):\n",
    "   if n <= 1:\n",
    "       return n\n",
    "   else:\n",
    "    #    print('This ', recur_fibo(n-1) + recur_fibo(n-2))\n",
    "       return(recur_fibo(n-1) + recur_fibo(n-2))\n",
    "    \n",
    "       \n",
    "nterms = 10\n",
    "\n",
    "print(\"Fibonacci sequence:\")\n",
    "for i in range(nterms):\n",
    "    print(recur_fibo(i))"
   ]
  }
 ]
}